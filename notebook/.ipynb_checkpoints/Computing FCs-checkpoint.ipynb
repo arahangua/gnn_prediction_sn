{
 "cells": [
  {
   "cell_type": "code",
   "execution_count": 35,
   "metadata": {},
   "outputs": [
    {
     "data": {
      "text/plain": [
       "<module 'assembly_util' from '../FC_scripts/assembly_util.py'>"
      ]
     },
     "execution_count": 35,
     "metadata": {},
     "output_type": "execute_result"
    }
   ],
   "source": [
    "#import necessary packages\n",
    "\n",
    "import numpy as np\n",
    "import sys\n",
    "import elephant\n",
    "\n",
    "import matplotlib.pyplot as plt\n",
    "import seaborn as sns\n",
    "sys.path.append('../FC_scripts/')\n",
    "import assembly_util # class for handling spike sorted outputs \n",
    "\n",
    "#import importlib\n",
    "#importlib.reload(assembly_util)"
   ]
  },
  {
   "cell_type": "code",
   "execution_count": 2,
   "metadata": {},
   "outputs": [
    {
     "data": {
      "text/plain": [
       "dict_keys(['spktimes', 'spktemps'])"
      ]
     },
     "execution_count": 2,
     "metadata": {},
     "output_type": "execute_result"
    }
   ],
   "source": [
    "#read-in example spike train\n",
    "data_path = '../data/example_spktrain.npy'\n",
    "\n",
    "spk_data = np.load(data_path, allow_pickle=True).item() \n",
    "spk_data.keys() # dictionary with two keys "
   ]
  },
  {
   "cell_type": "markdown",
   "metadata": {},
   "source": [
    "'spktimes' stores spike times (ms.) of all spikes in the network \n",
    "'spktemps' stores template id (neuron id) for each spike "
   ]
  },
  {
   "cell_type": "code",
   "execution_count": 3,
   "metadata": {},
   "outputs": [],
   "source": [
    "spktimes = spk_data['spktimes'] # spike times of all neurons (ms.)\n",
    "spktemps = spk_data['spktemps'] # matching neuron id for each spike"
   ]
  },
  {
   "cell_type": "code",
   "execution_count": 4,
   "metadata": {},
   "outputs": [
    {
     "name": "stdout",
     "output_type": "stream",
     "text": [
      "[12000014.   12000017.05 12000027.25 ... 13199999.5  13199999.7\n",
      " 13199999.8 ]\n"
     ]
    }
   ],
   "source": [
    "print(spktimes) # for this snippet, the start time was 12000014 (ms.) and the end time was 13199999.8 (ms.)"
   ]
  },
  {
   "cell_type": "code",
   "execution_count": 5,
   "metadata": {},
   "outputs": [
    {
     "name": "stdout",
     "output_type": "stream",
     "text": [
      "19.999763333333348\n"
     ]
    }
   ],
   "source": [
    "rec_dur = np.max(spktimes)-np.min(spktimes)\n",
    "print(rec_dur/1000/60) # recording duration of 20 min."
   ]
  },
  {
   "cell_type": "code",
   "execution_count": 36,
   "metadata": {},
   "outputs": [
    {
     "name": "stdout",
     "output_type": "stream",
     "text": [
      "number of neurons : 40\n",
      "[  2   4   7  10  17  19  21  41  46  49  51  52  54  55  57  59  60  69\n",
      "  71  72  77  78  80  82  83  90  91  94  98  99 102 108 114 121 133 138\n",
      " 140 152 154 157]\n"
     ]
    }
   ],
   "source": [
    "# set up Spiketrain class\n",
    "\n",
    "spkclass = assembly_util.Spiketrain(spktimes, spktemps)\n",
    "\n",
    "spkclass.set_trains() # sorts and separates spike times for each neuron\n",
    "\n",
    "print('number of neurons : ' + str(len(spkclass.spktime_list))) # spktime_list is a list that stores spike times of each neuron.  \n",
    "print(spkclass.uniq_ids) # uniq_ids corresponds to the id generated from the spike-sorting"
   ]
  },
  {
   "cell_type": "markdown",
   "metadata": {},
   "source": [
    "## 1. derive functional connectivity from pearson correlation coefficient (PCC)\n",
    "\n",
    "\n",
    "generate surrogate trains (shuffle spike times while keeping inter-spike intervals)"
   ]
  },
  {
   "cell_type": "code",
   "execution_count": 5,
   "metadata": {},
   "outputs": [
    {
     "name": "stdout",
     "output_type": "stream",
     "text": [
      "3 instantiations\n"
     ]
    }
   ],
   "source": [
    "shuf_trains=spkclass.shuffle_trains(3) # for this example, we generate only 3 shuffled instantiations (ISI-preserved)\n",
    "print(str(len(shuf_trains)) + ' instantiations')  # 3 instantiations"
   ]
  },
  {
   "cell_type": "markdown",
   "metadata": {},
   "source": [
    "then, we compute pairwise PCCs from both experimental and surrogate trains."
   ]
  },
  {
   "cell_type": "code",
   "execution_count": 8,
   "metadata": {},
   "outputs": [
    {
     "name": "stdout",
     "output_type": "stream",
     "text": [
      "done computing PCC FC mat\n"
     ]
    }
   ],
   "source": [
    "import warnings; warnings.simplefilter('ignore') # there will be a lot of warning msg. due to rounding of spike times \n",
    "PCC_FC_mat = spkclass.get_corr_mat(shuf_trains, 20, n_cpu=16) # This function does the job, we use a bin size of 20 ms."
   ]
  },
  {
   "cell_type": "code",
   "execution_count": 9,
   "metadata": {},
   "outputs": [
    {
     "name": "stdout",
     "output_type": "stream",
     "text": [
      "dict_keys(['p_val_mat', 'masked_corr', 'masked_eff', 'raw_corr_mat'])\n"
     ]
    }
   ],
   "source": [
    "print(PCC_FC_mat['corr_mat_eff'].keys()) \n",
    "# 'p_val_mat' stores p-value like values for each edge. In the current work, it is not used as we only considered values that are always greater than the surrogate values.\n",
    "# 'masked_corr' stores PCC values obtained from experimental data as-it-is but discarded spurious connections\n",
    "# 'masked_eff' stores surrogate-corrected PCC values.\n",
    "# 'raw_corr_mat' stores PCC values without any correction."
   ]
  },
  {
   "cell_type": "code",
   "execution_count": 108,
   "metadata": {},
   "outputs": [
    {
     "data": {
      "text/plain": [
       "(([], []), ([], []))"
      ]
     },
     "execution_count": 108,
     "metadata": {},
     "output_type": "execute_result"
    },
    {
     "data": {
      "image/png": "[encoded data removed]",
      "text/plain": [
       "<Figure size 720x360 with 4 Axes>"
      ]
     },
     "metadata": {
      "needs_background": "light"
     },
     "output_type": "display_data"
    }
   ],
   "source": [
    "# plot \n",
    "\n",
    "fig = plt.figure(figsize=(10,5))\n",
    "ax1 = fig.add_subplot(121)\n",
    "sns.heatmap(PCC_FC_mat['corr_mat_eff']['raw_corr_mat'], ax=ax1)\n",
    "ax1.set_title('PCC without surrogate correction')\n",
    "ax1.set_xlabel('neurons')\n",
    "ax1.set_ylabel('neurons')\n",
    "plt.xticks([]),plt.yticks([])\n",
    "\n",
    "ax2 = fig.add_subplot(122)\n",
    "sns.heatmap(PCC_FC_mat['corr_mat_eff']['masked_corr'], ax=ax2)\n",
    "ax2.set_title('PCC after surrogate correction')\n",
    "ax2.set_xlabel('neurons')\n",
    "ax2.set_ylabel('neurons')\n",
    "plt.xticks([]),plt.yticks([])\n"
   ]
  },
  {
   "cell_type": "markdown",
   "metadata": {},
   "source": [
    "## 2. derive functional connectivity from Spike time tiling coefficient (STTC)\n",
    "\n",
    "steps are exactly the same as in the case of PCC"
   ]
  },
  {
   "cell_type": "code",
   "execution_count": 6,
   "metadata": {},
   "outputs": [],
   "source": [
    "STTC_FC_mat = spkclass.get_sttc_mat(shuf_trains, 20, n_cpu=16) # also using 20 ms. as the bin size"
   ]
  },
  {
   "cell_type": "code",
   "execution_count": 7,
   "metadata": {},
   "outputs": [
    {
     "name": "stdout",
     "output_type": "stream",
     "text": [
      "dict_keys(['raw_sttc_mat', 'eff_sttc_mat', 'sttc_shuffled_mins'])\n"
     ]
    }
   ],
   "source": [
    "print(STTC_FC_mat.keys())\n",
    "\n",
    "# 'raw_sttc_mat' stores STTC values without any correction.\n",
    "# ''eff_sttc_mat'' stores surrogate-corrected STTC values.\n",
    "# 'sttc_shuffled_mins' stores negative STTC values from surrogate trains to check the magnitude of negative values resulting from the experimental trains (not used in this example) "
   ]
  },
  {
   "cell_type": "code",
   "execution_count": 11,
   "metadata": {},
   "outputs": [
    {
     "data": {
      "text/plain": [
       "(([], []), ([], []))"
      ]
     },
     "execution_count": 11,
     "metadata": {},
     "output_type": "execute_result"
    },
    {
     "data": {
      "image/png": "[encoded data removed]",
      "text/plain": [
       "<Figure size 720x360 with 4 Axes>"
      ]
     },
     "metadata": {
      "needs_background": "light"
     },
     "output_type": "display_data"
    }
   ],
   "source": [
    "# plot \n",
    "\n",
    "fig = plt.figure(figsize=(10,5))\n",
    "ax1 = fig.add_subplot(121)\n",
    "sns.heatmap(STTC_FC_mat['raw_sttc_mat'], ax=ax1)\n",
    "ax1.set_title('STTC without surrogate correction')\n",
    "ax1.set_xlabel('neurons')\n",
    "ax1.set_ylabel('neurons')\n",
    "plt.xticks([]),plt.yticks([])\n",
    "\n",
    "ax2 = fig.add_subplot(122)\n",
    "sns.heatmap(STTC_FC_mat['eff_sttc_mat'], ax=ax2)\n",
    "ax2.set_title('STTC after surrogate correction')\n",
    "ax2.set_xlabel('neurons')\n",
    "ax2.set_ylabel('neurons')\n",
    "plt.xticks([]),plt.yticks([])"
   ]
  },
  {
   "cell_type": "markdown",
   "metadata": {},
   "source": [
    "## 3. derive functional connectivity using cross-correlation histograms (CCHs)"
   ]
  },
  {
   "cell_type": "code",
   "execution_count": 38,
   "metadata": {},
   "outputs": [
    {
     "name": "stdout",
     "output_type": "stream",
     "text": [
      "[[1435.   577.5]\n",
      " [1435.   542.5]\n",
      " [2135.   437.5]\n",
      " [1645.   752.5]\n",
      " [1050.   892.5]\n",
      " [1470.   507.5]\n",
      " [1365.   612.5]\n",
      " [1085.   542.5]\n",
      " [1085.   402.5]\n",
      " [1225.   577.5]\n",
      " [1925.   717.5]\n",
      " [1925.   717.5]\n",
      " [1225.  1067.5]\n",
      " [1610.   682.5]\n",
      " [1610.   682.5]\n",
      " [1575.   402.5]\n",
      " [1400.   857.5]\n",
      " [1470.   437.5]\n",
      " [1470.   437.5]\n",
      " [1260.   507.5]\n",
      " [1785.   402.5]\n",
      " [2205.   542.5]\n",
      " [1995.   857.5]\n",
      " [1680.   752.5]\n",
      " [1295.   367.5]\n",
      " [1225.   437.5]\n",
      " [1260.   402.5]\n",
      " [1785.   577.5]\n",
      " [1925.  1067.5]\n",
      " [1925.   612.5]\n",
      " [1365.   787.5]\n",
      " [1435.   577.5]\n",
      " [1855.   402.5]\n",
      " [2205.   367.5]\n",
      " [1505.   717.5]\n",
      " [1575.   367.5]\n",
      " [2205.   892.5]\n",
      " [1960.  1067.5]\n",
      " [1435.   542.5]\n",
      " [2135.   892.5]]\n",
      "(40, 2)\n"
     ]
    }
   ],
   "source": [
    "# load physical location, this location information will be used for filtering spurious connections out.\n",
    "elec_loc = np.load('../data/example_locs.npy')\n",
    "print(elec_loc) # unit = um.\n",
    "print(elec_loc.shape)"
   ]
  },
  {
   "cell_type": "code",
   "execution_count": 37,
   "metadata": {},
   "outputs": [
    {
     "name": "stderr",
     "output_type": "stream",
     "text": [
      "100%|██████████| 780/780 [00:48<00:00, 15.93it/s]"
     ]
    },
    {
     "name": "stdout",
     "output_type": "stream",
     "text": [
      "num of connected components :1\n",
      "density of vanilla graph :0.0641025641025641\n",
      "used sensitivity : 1\n"
     ]
    },
    {
     "name": "stderr",
     "output_type": "stream",
     "text": [
      "\n",
      "100%|██████████| 780/780 [00:49<00:00, 15.81it/s]\n"
     ]
    },
    {
     "name": "stdout",
     "output_type": "stream",
     "text": [
      "num of connected components :1\n",
      "density of vanilla graph :0.11666666666666667\n",
      "used sensitivity : 0.5\n"
     ]
    },
    {
     "name": "stderr",
     "output_type": "stream",
     "text": [
      "100%|██████████| 780/780 [00:49<00:00, 15.89it/s]"
     ]
    },
    {
     "name": "stdout",
     "output_type": "stream",
     "text": [
      "num of connected components :1\n",
      "density of vanilla graph :0.3141025641025641\n",
      "used sensitivity : 0\n"
     ]
    },
    {
     "name": "stderr",
     "output_type": "stream",
     "text": [
      "\n"
     ]
    }
   ],
   "source": [
    "# compute CCH derived directed functional connectivity (adapted Pastore et al. 2018, https://journals.plos.org/ploscompbiol/article?id=10.1371/journal.pcbi.1006381)\n",
    "sensitivity_vec = [1, 0.5, 0] # here we use 3 different levels of sensitivity\n",
    "\n",
    "sens_results = []\n",
    "for sens in sensitivity_vec:\n",
    "    sens_results.append(spkclass.compute_fncch_connectivity(elec_loc, sens, binsize=1, n_cpu=16)) #binsize=1 here corresponds to 1 ms. bin for generating binned spike trains"
   ]
  },
  {
   "cell_type": "markdown",
   "metadata": {},
   "source": [
    "For this example, already with the highest sensitivity value, 1, we get only one connected component (component size >=2)"
   ]
  },
  {
   "cell_type": "code",
   "execution_count": 39,
   "metadata": {},
   "outputs": [
    {
     "name": "stdout",
     "output_type": "stream",
     "text": [
      "dict_keys(['ex_in_mat_raw', 'raw_after_prop', 'weight_raw', 'ex_in_mat_after_prop', 'final_weight_mat', 'lag_mat', 'ex_in_mat', 'sensitivity', 'dale_mat', 'dale_mat_raw', 'dale_weight', 'con_density', 'comps_viable', 'comp_sizes'])\n"
     ]
    }
   ],
   "source": [
    "# There are a lot of information stored for CCH FCs \n",
    "print(sens_results[0].keys())\n",
    "CCH_result = sens_results[0] #let us focus on the result using the highest sensitivity \n",
    "\n",
    "\n",
    "# keys description\n",
    "# intermediate results without any spurious connection filtering\n",
    "# 'ex_in_mat_raw' : matrix with each entry showing excitatory(+1), inhibitory(-1), no connection (0). Reflects solely the existence of peaks and troughs in CCHs\n",
    "# 'weight_raw' : as a coupled matrix for 'ex_in_mat_raw', stores absolute magnitude of peaks/troughs\n",
    "# 'lag_mat' : a matrix that stores the time bin of when(bin) a peak/trough happened for that edge.\n",
    "\n",
    "# after filtering using axonal propagation density\n",
    "# 'ex_in_mat_after_prop': 'ex_in_mat_raw' after deleting edges that were not valid given the propagation delay. \n",
    "# 'raw_after_prop' : 'weight_raw' after deleting weights that were not valid given the propagation delay. \n",
    "\n",
    "# applied peer based thresholding\n",
    "# 'ex_in_mat': using entries in 'ex_in_mat_after_prop', peer-based thresholding was done.\n",
    "# 'final_weight_mat': matching 'raw_after_prop' for 'ex_in_mat', after peer-based thresholding.\n",
    "# 'sensitivity': used sensitivity level\n",
    "\n",
    "\n",
    "# after applying dale's law \n",
    "# 'dale_mat_raw' : corresponds to 'ex_in_mat_after_prop' after applying dale's law (cell can be only excitatory or inhibitory not both at once.)\n",
    "# 'dale_mat' : dale's law applied to 'ex_in_mat'\n",
    "# 'dale_weight' : dale's law applied to 'final_weight_mat'\n",
    "\n",
    "\n",
    "\n",
    "# we focus on two keys\n",
    "# 'comp_sizes' returns sizes of components in the graph\n",
    "# 'comps_viable' returns a number of components that are greater than 2 \n",
    "# 'con_density' returns connection density of the graph (converted to undirected graph)"
   ]
  },
  {
   "cell_type": "code",
   "execution_count": 40,
   "metadata": {},
   "outputs": [
    {
     "data": {
      "text/plain": [
       "array([ 1,  1,  1,  1,  1,  1,  1,  1,  1,  1,  1,  1,  1, 24,  1,  1,  1])"
      ]
     },
     "execution_count": 40,
     "metadata": {},
     "output_type": "execute_result"
    }
   ],
   "source": [
    "CCH_result['comp_sizes'] # however, as we can see here, there are a lot of disconnected neurons"
   ]
  },
  {
   "cell_type": "code",
   "execution_count": 41,
   "metadata": {},
   "outputs": [
    {
     "data": {
      "text/plain": [
       "(([], []), ([], []))"
      ]
     },
     "execution_count": 41,
     "metadata": {},
     "output_type": "execute_result"
    },
    {
     "data": {
      "image/png": "[encoded data removed]",
      "text/plain": [
       "<Figure size 720x360 with 4 Axes>"
      ]
     },
     "metadata": {
      "needs_background": "light"
     },
     "output_type": "display_data"
    }
   ],
   "source": [
    "# plot \n",
    "\n",
    "fig = plt.figure(figsize=(10,5))\n",
    "ax1 = fig.add_subplot(121)\n",
    "sns.heatmap(CCH_result['ex_in_mat_raw'], ax=ax1)\n",
    "ax1.set_title('CCH derived graph without corrections')\n",
    "ax1.set_xlabel('neurons')\n",
    "ax1.set_ylabel('neurons')\n",
    "plt.xticks([]),plt.yticks([])\n",
    "\n",
    "ax2 = fig.add_subplot(122)\n",
    "sns.heatmap(CCH_result['dale_mat'], ax=ax2)\n",
    "ax2.set_title('CCH derived graph after corrections')\n",
    "ax2.set_xlabel('neurons')\n",
    "ax2.set_ylabel('neurons')\n",
    "plt.xticks([]),plt.yticks([])"
   ]
  },
  {
   "cell_type": "markdown",
   "metadata": {},
   "source": [
    "As we can see from these two heatmaps, pre-post (row - column) relation now has only one type of connection (excitatory vs inhibitory) "
   ]
  }
 ],
 "metadata": {
  "kernelspec": {
   "display_name": "Python 3",
   "language": "python",
   "name": "python3"
  },
  "language_info": {
   "codemirror_mode": {
    "name": "ipython",
    "version": 3
   },
   "file_extension": ".py",
   "mimetype": "text/x-python",
   "name": "python",
   "nbconvert_exporter": "python",
   "pygments_lexer": "ipython3",
   "version": "3.7.8"
  }
 },
 "nbformat": 4,
 "nbformat_minor": 4
}

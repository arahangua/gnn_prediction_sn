{
 "cells": [
  {
   "cell_type": "code",
   "execution_count": 93,
   "metadata": {},
   "outputs": [
    {
     "data": {
      "text/plain": [
       "<module 'assembly_util' from '../FC_scripts/assembly_util.py'>"
      ]
     },
     "execution_count": 93,
     "metadata": {},
     "output_type": "execute_result"
    }
   ],
   "source": [
    "#import necessary packages\n",
    "\n",
    "import numpy as np\n",
    "import sys\n",
    "import elephant\n",
    "\n",
    "import matplotlib.pyplot as plt\n",
    "import seaborn as sns\n",
    "sys.path.append('../FC_scripts/')\n",
    "import assembly_util # class for handling spike sorted outputs \n",
    "\n",
    "import importlib\n",
    "importlib.reload(assembly_util)"
   ]
  },
  {
   "cell_type": "code",
   "execution_count": 5,
   "metadata": {},
   "outputs": [
    {
     "data": {
      "text/plain": [
       "dict_keys(['spktimes', 'spktemps'])"
      ]
     },
     "execution_count": 5,
     "metadata": {},
     "output_type": "execute_result"
    }
   ],
   "source": [
    "#read-in example spike train\n",
    "data_path = '../data/example_spktrain.npy'\n",
    "\n",
    "spk_data = np.load(data_path, allow_pickle=True).item() \n",
    "spk_data.keys() # dictionary with two keys "
   ]
  },
  {
   "cell_type": "markdown",
   "metadata": {},
   "source": [
    "'spktimes' stores spike times (ms.) of all spikes in the network \n",
    "'spktemps' stores template id (neuron id) for each spike "
   ]
  },
  {
   "cell_type": "code",
   "execution_count": 7,
   "metadata": {},
   "outputs": [],
   "source": [
    "spktimes = spk_data['spktimes'] # spike times of all neurons (ms.)\n",
    "spktemps = spk_data['spktemps'] # matching neuron id for each spike"
   ]
  },
  {
   "cell_type": "code",
   "execution_count": 8,
   "metadata": {},
   "outputs": [
    {
     "name": "stdout",
     "output_type": "stream",
     "text": [
      "[12000014.   12000017.05 12000027.25 ... 13199999.5  13199999.7\n",
      " 13199999.8 ]\n"
     ]
    }
   ],
   "source": [
    "print(spktimes) # for this snippet, the start time was 12000014 (ms.) and the end time was 13199999.8 (ms.)"
   ]
  },
  {
   "cell_type": "code",
   "execution_count": 12,
   "metadata": {},
   "outputs": [
    {
     "name": "stdout",
     "output_type": "stream",
     "text": [
      "19.999763333333348\n"
     ]
    }
   ],
   "source": [
    "rec_dur = np.max(spktimes)-np.min(spktimes)\n",
    "print(rec_dur/1000/60) # recording duration of 20 min."
   ]
  },
  {
   "cell_type": "code",
   "execution_count": 85,
   "metadata": {},
   "outputs": [
    {
     "name": "stdout",
     "output_type": "stream",
     "text": [
      "number of neurons : 40\n",
      "[  2   4   7  10  17  19  21  41  46  49  51  52  54  55  57  59  60  69\n",
      "  71  72  77  78  80  82  83  90  91  94  98  99 102 108 114 121 133 138\n",
      " 140 152 154 157]\n"
     ]
    }
   ],
   "source": [
    "# set up Spiketrain class\n",
    "\n",
    "spkclass = assembly_util.Spiketrain(spktimes, spktemps)\n",
    "\n",
    "spkclass.set_trains() # sorts and separates spike times for each neuron\n",
    "\n",
    "print('number of neurons : ' + str(len(spkclass.spktime_list))) # spktime_list is a list that stores spike times of each neuron.  \n",
    "print(spkclass.uniq_ids) # uniq_ids corresponds to the id generated from the spike-sorting"
   ]
  },
  {
   "cell_type": "markdown",
   "metadata": {},
   "source": [
    "# setting up is done"
   ]
  },
  {
   "cell_type": "markdown",
   "metadata": {},
   "source": [
    "# 1. derive functional connectivity from pearson correlation coefficient (PCC)\n",
    "\n",
    "\n",
    "generate surrogate trains (shuffle spike times while keeping inter-spike intervals)"
   ]
  },
  {
   "cell_type": "code",
   "execution_count": 100,
   "metadata": {},
   "outputs": [
    {
     "name": "stdout",
     "output_type": "stream",
     "text": [
      "3 instantiations\n"
     ]
    }
   ],
   "source": [
    "shuf_trains=spkclass.shuffle_trains(3) # for this example, we generate only 3 shuffled instantiations (ISI-preserved)\n",
    "print(str(len(shuf_trains)) + ' instantiations')  # 3 instantiations"
   ]
  },
  {
   "cell_type": "markdown",
   "metadata": {},
   "source": [
    "1) bin spike trains (experimental, surrogate) <br>\n",
    "2) using the binned trains, compute pairwise PCC <br>\n",
    "3) for each pair of neurons, subtract the largest surrogate value from the experimental value and only keep PCCs that are positive"
   ]
  },
  {
   "cell_type": "code",
   "execution_count": 91,
   "metadata": {},
   "outputs": [
    {
     "name": "stdout",
     "output_type": "stream",
     "text": [
      "done computing PCC FC mat\n"
     ]
    }
   ],
   "source": [
    "import warnings; warnings.simplefilter('ignore') # there will be a lot of warning msg. due to rounding of spike times \n",
    "PCC_FC_mat = spkclass.get_corr_mat(shuf_trains, 20, n_cpu=16) # This function does the job, we use a bin size of 20 ms."
   ]
  },
  {
   "cell_type": "code",
   "execution_count": 98,
   "metadata": {},
   "outputs": [
    {
     "name": "stdout",
     "output_type": "stream",
     "text": [
      "dict_keys(['corr_mat_raw', 'corr_mat_eff', 'shuffled_neg'])\n",
      "dict_keys(['p_val_mat', 'masked_corr', 'masked_eff', 'raw_corr_mat'])\n"
     ]
    }
   ],
   "source": [
    "print(PCC_FC_mat['corr_mat_eff'].keys()) \n",
    "# 'p_val_mat' stores p-value like values for each edge. In the current work, it is not used as we only considered values that are always greater than the surrogate values.\n",
    "# 'masked_corr' stores PCC values obtained from experimental data as-it-is but discarded spurious connections\n",
    "# 'masked_eff' stores surrogate-corrected PCC values.\n",
    "# 'raw_corr_mat' stores PCC values without any correction."
   ]
  },
  {
   "cell_type": "code",
   "execution_count": 108,
   "metadata": {},
   "outputs": [
    {
     "data": {
      "text/plain": [
       "(([], []), ([], []))"
      ]
     },
     "execution_count": 108,
     "metadata": {},
     "output_type": "execute_result"
    },
    {
     "data": {
      "image/png": "[encoded data removed]",
      "text/plain": [
       "<Figure size 720x360 with 4 Axes>"
      ]
     },
     "metadata": {
      "needs_background": "light"
     },
     "output_type": "display_data"
    }
   ],
   "source": [
    "# plot \n",
    "\n",
    "fig = plt.figure(figsize=(10,5))\n",
    "ax1 = fig.add_subplot(121)\n",
    "sns.heatmap(PCC_FC_mat['corr_mat_eff']['raw_corr_mat'], ax=ax1)\n",
    "ax1.set_title('PCC without surrogate correction')\n",
    "ax1.set_xlabel('neurons')\n",
    "ax1.set_ylabel('neurons')\n",
    "plt.xticks([]),plt.yticks([])\n",
    "\n",
    "ax2 = fig.add_subplot(122)\n",
    "sns.heatmap(PCC_FC_mat['corr_mat_eff']['masked_corr'], ax=ax2)\n",
    "ax2.set_title('PCC after surrogate correction')\n",
    "ax2.set_xlabel('neurons')\n",
    "ax2.set_ylabel('neurons')\n",
    "plt.xticks([]),plt.yticks([])\n"
   ]
  },
  {
   "cell_type": "markdown",
   "metadata": {},
   "source": [
    "# 2. derive functional connectivity from Spike time tiling coefficient (STTC)\n",
    "\n",
    "steps are exactly the same as PCC"
   ]
  },
  {
   "cell_type": "code",
   "execution_count": null,
   "metadata": {},
   "outputs": [],
   "source": [
    "PCC_FC_mat = spkclass.get_sttc_mat(shuf_trains, 20, n_cpu=16) # This function does the job, we use a bin size of 20 ms."
   ]
  }
 ],
 "metadata": {
  "kernelspec": {
   "display_name": "Python 3",
   "language": "python",
   "name": "python3"
  },
  "language_info": {
   "codemirror_mode": {
    "name": "ipython",
    "version": 3
   },
   "file_extension": ".py",
   "mimetype": "text/x-python",
   "name": "python",
   "nbconvert_exporter": "python",
   "pygments_lexer": "ipython3",
   "version": "3.7.8"
  }
 },
 "nbformat": 4,
 "nbformat_minor": 4
}

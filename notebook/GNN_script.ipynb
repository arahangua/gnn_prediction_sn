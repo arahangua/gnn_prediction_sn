{
 "cells": [
  {
   "cell_type": "markdown",
   "metadata": {},
   "source": [
    "# Training / testing of GNN models "
   ]
  },
  {
   "cell_type": "code",
   "execution_count": null,
   "metadata": {},
   "outputs": [],
   "source": [
    "# import necessary packages\n",
    "\n",
    "import sys\n",
    "import numpy as np\n",
    "import datetime\n",
    "\n",
    "# import util scripts\n",
    "# add path\n",
    "sys.path.append('../utils/')\n",
    "\n",
    "import neural_assembly_utils\n",
    "import wp1_gnn_torch_hd as wp1_gnn_torch"
   ]
  },
  {
   "cell_type": "markdown",
   "metadata": {},
   "source": [
    "An exact copy of conda environment is provided -> \"conda_requirements.txt\" \n",
    "\n",
    "but for most use cases, it would suffice to just run \"pip install -r requirements.txt\""
   ]
  },
  {
   "cell_type": "code",
   "execution_count": null,
   "metadata": {},
   "outputs": [],
   "source": [
    "# load-in data\n",
    "\n",
    "\n"
   ]
  },
  {
   "cell_type": "markdown",
   "metadata": {},
   "source": [
    "props in the dict : \n",
    "\n",
    "\"nodes\" :"
   ]
  },
  {
   "cell_type": "code",
   "execution_count": null,
   "metadata": {},
   "outputs": [],
   "source": [
    "# training / testing  \n",
    "\n",
    "\n",
    "\n",
    "\n"
   ]
  },
  {
   "cell_type": "code",
   "execution_count": null,
   "metadata": {},
   "outputs": [],
   "source": [
    "\n",
    "\n",
    "\n",
    "sys.path.append('/home/th/bsse_home/work_directory/wp1/python/')\n",
    "sys.path.append('/home/takim/work_directory/wp1/python/')\n",
    "\n",
    "#import neural_assembly\n",
    "import neural_assembly_utils\n",
    "import neural_assembly_utils2\n",
    "import neural_assembly_utils3\n",
    "\n",
    "        \n",
    "\n",
    "#import scanpy\n",
    "import sklearn\n",
    "from distfit import distfit\n",
    "import datetime"
   ]
  }
 ],
 "metadata": {
  "kernelspec": {
   "display_name": "Python 3",
   "language": "python",
   "name": "python3"
  },
  "language_info": {
   "codemirror_mode": {
    "name": "ipython",
    "version": 3
   },
   "file_extension": ".py",
   "mimetype": "text/x-python",
   "name": "python",
   "nbconvert_exporter": "python",
   "pygments_lexer": "ipython3",
   "version": "3.7.8"
  }
 },
 "nbformat": 4,
 "nbformat_minor": 4
}
